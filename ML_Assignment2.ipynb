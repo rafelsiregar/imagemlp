{
  "nbformat": 4,
  "nbformat_minor": 0,
  "metadata": {
    "colab": {
      "name": "ML_Assignment2.ipynb",
      "provenance": [],
      "include_colab_link": true
    },
    "kernelspec": {
      "display_name": "Python 3",
      "name": "python3"
    },
    "language_info": {
      "name": "python"
    }
  },
  "cells": [
    {
      "cell_type": "markdown",
      "metadata": {
        "id": "view-in-github",
        "colab_type": "text"
      },
      "source": [
        "<a href=\"https://colab.research.google.com/github/rafelsiregar/imagemlp/blob/master/ML_Assignment2.ipynb\" target=\"_parent\"><img src=\"https://colab.research.google.com/assets/colab-badge.svg\" alt=\"Open In Colab\"/></a>"
      ]
    },
    {
      "cell_type": "code",
      "metadata": {
        "id": "JNRGr1V-L8kM",
        "colab": {
          "base_uri": "https://localhost:8080/"
        },
        "outputId": "14744c4c-d236-4d28-e913-01aad285f470"
      },
      "source": [
        "!git clone https://github.com/rafelsiregar/imagemlp.git # Buat load dataset\n",
        "from sklearn.model_selection import train_test_split\n",
        "import cv2\n",
        "import numpy as np\n",
        "import os"
      ],
      "execution_count": 10,
      "outputs": [
        {
          "output_type": "stream",
          "text": [
            "fatal: destination path 'imagemlp' already exists and is not an empty directory.\n"
          ],
          "name": "stdout"
        }
      ]
    },
    {
      "cell_type": "code",
      "metadata": {
        "id": "HLiihXTDMl2n"
      },
      "source": [
        "def sigmoid(x):\n",
        "  return 1/(1+exp(-x))"
      ],
      "execution_count": 11,
      "outputs": []
    },
    {
      "cell_type": "code",
      "metadata": {
        "id": "j_mfh5F2sqoq"
      },
      "source": [
        "def resize(img, height, width):\n",
        "  return cv2.resize(img,(height, width), interpolation = cv2.INTER_AREA)\n",
        "\n",
        "def grayscale(img):\n",
        "  return cv2.cvtColor(img, cv2.COLOR_BGR2GRAY)"
      ],
      "execution_count": 12,
      "outputs": []
    },
    {
      "cell_type": "code",
      "metadata": {
        "id": "HwBW_AP-p4WA",
        "outputId": "0fe4515c-1060-45e4-e59f-5726316f1577",
        "colab": {
          "base_uri": "https://localhost:8080/"
        }
      },
      "source": [
        "# Return 2 buah list isi dataset:\n",
        "# list pertama adalah dataset (X) berupa ndarray\n",
        "# list kedua adalah labelnya (y) berupa ndarray\n",
        "# bisa langsung jadi parameter buat test_train_split()\n",
        "def load_data():\n",
        "  flowers = os.listdir('/content/imagemlp/flowers')\n",
        "  print(flowers)\n",
        "\n",
        "  X = []\n",
        "  y = []\n",
        "\n",
        "  for folder in flowers:\n",
        "    images = os.listdir(os.path.join('/content/imagemlp/flowers', folder))\n",
        "    X.extend([resize(\n",
        "                grayscale(\n",
        "                    cv2.imread(os.path.join('/content/imagemlp/flowers', folder, image))\n",
        "                    ),\n",
        "                    320,\n",
        "                    240\n",
        "                ) for image in images])\n",
        "    y.extend([label[folder]] * len(images))\n",
        "  \n",
        "  return X, y\n",
        "\n",
        "print(len(X), len(y))\n",
        "print(X[0], '\\n', y[0])\n"
      ],
      "execution_count": 14,
      "outputs": [
        {
          "output_type": "stream",
          "text": [
            "300 300\n",
            "[134 132 131 ...  72  69  32] \n",
            " 0\n"
          ],
          "name": "stdout"
        }
      ]
    }
  ]
}