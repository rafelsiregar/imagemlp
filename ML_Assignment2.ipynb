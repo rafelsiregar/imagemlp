{
  "nbformat": 4,
  "nbformat_minor": 0,
  "metadata": {
    "colab": {
      "name": "ML_Assignment2.ipynb",
      "provenance": [],
      "include_colab_link": true
    },
    "kernelspec": {
      "display_name": "Python 3",
      "name": "python3"
    },
    "language_info": {
      "name": "python"
    }
  },
  "cells": [
    {
      "cell_type": "markdown",
      "metadata": {
        "id": "view-in-github",
        "colab_type": "text"
      },
      "source": [
        "<a href=\"https://colab.research.google.com/github/rafelsiregar/imagemlp/blob/master/ML_Assignment2.ipynb\" target=\"_parent\"><img src=\"https://colab.research.google.com/assets/colab-badge.svg\" alt=\"Open In Colab\"/></a>"
      ]
    },
    {
      "cell_type": "code",
      "metadata": {
        "id": "JNRGr1V-L8kM",
        "colab": {
          "base_uri": "https://localhost:8080/"
        },
        "outputId": "8cc2830c-e408-485c-ab16-e7810eeeb8fd"
      },
      "source": [
        "!git clone https://github.com/rafelsiregar/imagemlp.git # Buat load dataset\n",
        "from sklearn.model_selection import train_test_split\n",
        "import cv2\n",
        "import numpy as np\n",
        "import os"
      ],
      "execution_count": 1,
      "outputs": [
        {
          "output_type": "stream",
          "text": [
            "Cloning into 'imagemlp'...\n",
            "remote: Enumerating objects: 315, done.\u001b[K\n",
            "remote: Counting objects: 100% (315/315), done.\u001b[K\n",
            "remote: Compressing objects: 100% (312/312), done.\u001b[K\n",
            "remote: Total 315 (delta 2), reused 307 (delta 1), pack-reused 0\u001b[K\n",
            "Receiving objects: 100% (315/315), 43.27 MiB | 40.84 MiB/s, done.\n",
            "Resolving deltas: 100% (2/2), done.\n"
          ],
          "name": "stdout"
        }
      ]
    },
    {
      "cell_type": "code",
      "metadata": {
        "id": "XQPqSWnKiJ79"
      },
      "source": [
        "from google.colab import drive\n",
        "drive.mount('/content/drive')"
      ],
      "execution_count": null,
      "outputs": []
    },
    {
      "cell_type": "code",
      "metadata": {
        "id": "HwBW_AP-p4WA"
      },
      "source": [
        "# Return 2 buah list isi dataset:\n",
        "# list pertama adalah dataset (X) berupa ndarray\n",
        "# list kedua adalah labelnya (y) berupa ndarray\n",
        "# bisa langsung jadi parameter buat test_train_split()\n",
        "def load_data():\n",
        "  flowers = os.listdir('content/imagemlp/flowers')\n"
      ],
      "execution_count": null,
      "outputs": []
    },
    {
      "cell_type": "code",
      "metadata": {
        "id": "HLiihXTDMl2n"
      },
      "source": [
        "def sigmoid(x):\n",
        "  return 1/(1+exp(-x))"
      ],
      "execution_count": null,
      "outputs": []
    },
    {
      "cell_type": "code",
      "metadata": {
        "id": "j_mfh5F2sqoq"
      },
      "source": [
        "def resize(img, height, width):\n",
        "  return cv2.resize(img,(height, width), interpolation = cv2.INTER_AREA)"
      ],
      "execution_count": null,
      "outputs": []
    }
  ]
}